{
 "cells": [
  {
   "cell_type": "code",
   "execution_count": 2,
   "id": "d31ca107",
   "metadata": {},
   "outputs": [],
   "source": [
    "import folium\n",
    "from folium.plugins import HeatMap"
   ]
  },
  {
   "cell_type": "code",
   "execution_count": 5,
   "id": "873deef3",
   "metadata": {},
   "outputs": [
    {
     "data": {
      "text/plain": [
       "<folium.plugins.heat_map.HeatMap at 0x7fe990453df0>"
      ]
     },
     "execution_count": 5,
     "metadata": {},
     "output_type": "execute_result"
    }
   ],
   "source": [
    "mapObj = folium.Map(location=[21, 77],\n",
    "                   zoom_start=6)\n",
    "data = [\n",
    "    [24.399, 80.142, 0.78],\n",
    "    [22.252, 80.885, 0.68],\n",
    "    [24.311, 80.543, 0.58],\n",
    "    [23.195, 82.994, 0.46],\n",
    "    [23.431, 80.427, 0.76],\n",
    "    [26.363, 81.791, 1.81],\n",
    "    [22.942, 83.257, 0.75],\n",
    "    [23.751, 79.995, 0.16],\n",
    "    [23.215, 81.004, 0.64],\n",
    "    [24.541, 79.889, 0.55]\n",
    "]\n",
    "\n",
    "HeatMap(data).add_to(mapObj)"
   ]
  },
  {
   "cell_type": "code",
   "execution_count": 6,
   "id": "e474f3de",
   "metadata": {},
   "outputs": [],
   "source": [
    "mapObj.save(\"heatMap.html\")"
   ]
  }
 ],
 "metadata": {
  "kernelspec": {
   "display_name": "Python 3 (ipykernel)",
   "language": "python",
   "name": "python3"
  },
  "language_info": {
   "codemirror_mode": {
    "name": "ipython",
    "version": 3
   },
   "file_extension": ".py",
   "mimetype": "text/x-python",
   "name": "python",
   "nbconvert_exporter": "python",
   "pygments_lexer": "ipython3",
   "version": "3.9.13"
  }
 },
 "nbformat": 4,
 "nbformat_minor": 5
}
